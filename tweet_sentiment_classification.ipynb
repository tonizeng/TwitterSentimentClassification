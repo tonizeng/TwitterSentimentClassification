{
 "cells": [
  {
   "cell_type": "code",
   "execution_count": 322,
   "id": "a9cab7c1",
   "metadata": {},
   "outputs": [],
   "source": [
    "# utilities\n",
    "import re\n",
    "import numpy as np\n",
    "import pandas as pd\n",
    "import string\n",
    "# plotting\n",
    "import seaborn as sns\n",
    "from wordcloud import WordCloud\n",
    "import matplotlib.pyplot as plt\n",
    "# nltk\n",
    "from nltk.stem import WordNetLemmatizer\n",
    "from nltk.tokenize import RegexpTokenizer\n",
    "from nltk.stem import PorterStemmer\n",
    "# sklearn\n",
    "from sklearn.model_selection import train_test_split\n",
    "from sklearn.feature_extraction.text import TfidfVectorizer\n",
    "from sklearn.metrics import confusion_matrix, classification_report\n",
    "from sklearn.naive_bayes import MultinomialNB\n",
    "from sklearn.neighbors import KNeighborsClassifier\n",
    "from sklearn.linear_model import LogisticRegression\n",
    "from sklearn.metrics import classification_report\n",
    "from sklearn.naive_bayes import GaussianNB\n",
    "from sklearn.svm import SVC\n",
    "from sklearn.ensemble import RandomForestClassifier"
   ]
  },
  {
   "cell_type": "markdown",
   "id": "52d3268d",
   "metadata": {},
   "source": [
    "## Sarcasm Dataset Analysis"
   ]
  },
  {
   "cell_type": "code",
   "execution_count": 52,
   "id": "f87acb07",
   "metadata": {},
   "outputs": [],
   "source": [
    "df_sarcasm = pd.read_csv('sarcasm_dataset.csv')"
   ]
  },
  {
   "cell_type": "code",
   "execution_count": 53,
   "id": "f5461041",
   "metadata": {},
   "outputs": [
    {
     "data": {
      "text/html": [
       "<div>\n",
       "<style scoped>\n",
       "    .dataframe tbody tr th:only-of-type {\n",
       "        vertical-align: middle;\n",
       "    }\n",
       "\n",
       "    .dataframe tbody tr th {\n",
       "        vertical-align: top;\n",
       "    }\n",
       "\n",
       "    .dataframe thead th {\n",
       "        text-align: right;\n",
       "    }\n",
       "</style>\n",
       "<table border=\"1\" class=\"dataframe\">\n",
       "  <thead>\n",
       "    <tr style=\"text-align: right;\">\n",
       "      <th></th>\n",
       "      <th>Unnamed: 0</th>\n",
       "      <th>tweet</th>\n",
       "      <th>sarcastic</th>\n",
       "      <th>sarcasm</th>\n",
       "      <th>irony</th>\n",
       "      <th>satire</th>\n",
       "      <th>understatement</th>\n",
       "      <th>overstatement</th>\n",
       "      <th>rhetorical_question</th>\n",
       "    </tr>\n",
       "  </thead>\n",
       "  <tbody>\n",
       "    <tr>\n",
       "      <th>0</th>\n",
       "      <td>0</td>\n",
       "      <td>The only thing I got from college is a caffein...</td>\n",
       "      <td>1</td>\n",
       "      <td>0.0</td>\n",
       "      <td>1.0</td>\n",
       "      <td>0.0</td>\n",
       "      <td>0.0</td>\n",
       "      <td>0.0</td>\n",
       "      <td>0.0</td>\n",
       "    </tr>\n",
       "    <tr>\n",
       "      <th>1</th>\n",
       "      <td>1</td>\n",
       "      <td>I love it when professors draw a big question ...</td>\n",
       "      <td>1</td>\n",
       "      <td>1.0</td>\n",
       "      <td>0.0</td>\n",
       "      <td>0.0</td>\n",
       "      <td>0.0</td>\n",
       "      <td>0.0</td>\n",
       "      <td>0.0</td>\n",
       "    </tr>\n",
       "    <tr>\n",
       "      <th>2</th>\n",
       "      <td>2</td>\n",
       "      <td>Remember the hundred emails from companies whe...</td>\n",
       "      <td>1</td>\n",
       "      <td>0.0</td>\n",
       "      <td>1.0</td>\n",
       "      <td>0.0</td>\n",
       "      <td>0.0</td>\n",
       "      <td>0.0</td>\n",
       "      <td>0.0</td>\n",
       "    </tr>\n",
       "    <tr>\n",
       "      <th>3</th>\n",
       "      <td>3</td>\n",
       "      <td>Today my pop-pop told me I was not “forced” to...</td>\n",
       "      <td>1</td>\n",
       "      <td>1.0</td>\n",
       "      <td>0.0</td>\n",
       "      <td>0.0</td>\n",
       "      <td>0.0</td>\n",
       "      <td>0.0</td>\n",
       "      <td>0.0</td>\n",
       "    </tr>\n",
       "    <tr>\n",
       "      <th>4</th>\n",
       "      <td>4</td>\n",
       "      <td>@VolphanCarol @littlewhitty @mysticalmanatee I...</td>\n",
       "      <td>1</td>\n",
       "      <td>1.0</td>\n",
       "      <td>0.0</td>\n",
       "      <td>0.0</td>\n",
       "      <td>0.0</td>\n",
       "      <td>0.0</td>\n",
       "      <td>0.0</td>\n",
       "    </tr>\n",
       "    <tr>\n",
       "      <th>...</th>\n",
       "      <td>...</td>\n",
       "      <td>...</td>\n",
       "      <td>...</td>\n",
       "      <td>...</td>\n",
       "      <td>...</td>\n",
       "      <td>...</td>\n",
       "      <td>...</td>\n",
       "      <td>...</td>\n",
       "      <td>...</td>\n",
       "    </tr>\n",
       "    <tr>\n",
       "      <th>3463</th>\n",
       "      <td>3463</td>\n",
       "      <td>The population spike in Chicago in 9 months is...</td>\n",
       "      <td>0</td>\n",
       "      <td>NaN</td>\n",
       "      <td>NaN</td>\n",
       "      <td>NaN</td>\n",
       "      <td>NaN</td>\n",
       "      <td>NaN</td>\n",
       "      <td>NaN</td>\n",
       "    </tr>\n",
       "    <tr>\n",
       "      <th>3464</th>\n",
       "      <td>3464</td>\n",
       "      <td>You'd think in the second to last English clas...</td>\n",
       "      <td>0</td>\n",
       "      <td>NaN</td>\n",
       "      <td>NaN</td>\n",
       "      <td>NaN</td>\n",
       "      <td>NaN</td>\n",
       "      <td>NaN</td>\n",
       "      <td>NaN</td>\n",
       "    </tr>\n",
       "    <tr>\n",
       "      <th>3465</th>\n",
       "      <td>3465</td>\n",
       "      <td>I’m finally surfacing after a holiday to Scotl...</td>\n",
       "      <td>0</td>\n",
       "      <td>NaN</td>\n",
       "      <td>NaN</td>\n",
       "      <td>NaN</td>\n",
       "      <td>NaN</td>\n",
       "      <td>NaN</td>\n",
       "      <td>NaN</td>\n",
       "    </tr>\n",
       "    <tr>\n",
       "      <th>3466</th>\n",
       "      <td>3466</td>\n",
       "      <td>Couldn't be prouder today. Well done to every ...</td>\n",
       "      <td>0</td>\n",
       "      <td>NaN</td>\n",
       "      <td>NaN</td>\n",
       "      <td>NaN</td>\n",
       "      <td>NaN</td>\n",
       "      <td>NaN</td>\n",
       "      <td>NaN</td>\n",
       "    </tr>\n",
       "    <tr>\n",
       "      <th>3467</th>\n",
       "      <td>3467</td>\n",
       "      <td>Overheard as my 13 year old games with a frien...</td>\n",
       "      <td>0</td>\n",
       "      <td>NaN</td>\n",
       "      <td>NaN</td>\n",
       "      <td>NaN</td>\n",
       "      <td>NaN</td>\n",
       "      <td>NaN</td>\n",
       "      <td>NaN</td>\n",
       "    </tr>\n",
       "  </tbody>\n",
       "</table>\n",
       "<p>3468 rows × 9 columns</p>\n",
       "</div>"
      ],
      "text/plain": [
       "      Unnamed: 0                                              tweet  \\\n",
       "0              0  The only thing I got from college is a caffein...   \n",
       "1              1  I love it when professors draw a big question ...   \n",
       "2              2  Remember the hundred emails from companies whe...   \n",
       "3              3  Today my pop-pop told me I was not “forced” to...   \n",
       "4              4  @VolphanCarol @littlewhitty @mysticalmanatee I...   \n",
       "...          ...                                                ...   \n",
       "3463        3463  The population spike in Chicago in 9 months is...   \n",
       "3464        3464  You'd think in the second to last English clas...   \n",
       "3465        3465  I’m finally surfacing after a holiday to Scotl...   \n",
       "3466        3466  Couldn't be prouder today. Well done to every ...   \n",
       "3467        3467  Overheard as my 13 year old games with a frien...   \n",
       "\n",
       "      sarcastic  sarcasm  irony  satire  understatement  overstatement  \\\n",
       "0             1      0.0    1.0     0.0             0.0            0.0   \n",
       "1             1      1.0    0.0     0.0             0.0            0.0   \n",
       "2             1      0.0    1.0     0.0             0.0            0.0   \n",
       "3             1      1.0    0.0     0.0             0.0            0.0   \n",
       "4             1      1.0    0.0     0.0             0.0            0.0   \n",
       "...         ...      ...    ...     ...             ...            ...   \n",
       "3463          0      NaN    NaN     NaN             NaN            NaN   \n",
       "3464          0      NaN    NaN     NaN             NaN            NaN   \n",
       "3465          0      NaN    NaN     NaN             NaN            NaN   \n",
       "3466          0      NaN    NaN     NaN             NaN            NaN   \n",
       "3467          0      NaN    NaN     NaN             NaN            NaN   \n",
       "\n",
       "      rhetorical_question  \n",
       "0                     0.0  \n",
       "1                     0.0  \n",
       "2                     0.0  \n",
       "3                     0.0  \n",
       "4                     0.0  \n",
       "...                   ...  \n",
       "3463                  NaN  \n",
       "3464                  NaN  \n",
       "3465                  NaN  \n",
       "3466                  NaN  \n",
       "3467                  NaN  \n",
       "\n",
       "[3468 rows x 9 columns]"
      ]
     },
     "execution_count": 53,
     "metadata": {},
     "output_type": "execute_result"
    }
   ],
   "source": [
    "df_sarcasm"
   ]
  },
  {
   "cell_type": "code",
   "execution_count": 54,
   "id": "5bc162f2",
   "metadata": {},
   "outputs": [],
   "source": [
    "df_sarcasm = df_sarcasm[['tweet', 'sarcastic']]"
   ]
  },
  {
   "cell_type": "code",
   "execution_count": 57,
   "id": "8ca8e59e",
   "metadata": {},
   "outputs": [],
   "source": [
    "df_sarcasm = df_sarcasm[df_sarcasm['sarcastic'] == 1]"
   ]
  },
  {
   "cell_type": "code",
   "execution_count": 58,
   "id": "447c6820",
   "metadata": {
    "scrolled": true
   },
   "outputs": [
    {
     "data": {
      "text/html": [
       "<div>\n",
       "<style scoped>\n",
       "    .dataframe tbody tr th:only-of-type {\n",
       "        vertical-align: middle;\n",
       "    }\n",
       "\n",
       "    .dataframe tbody tr th {\n",
       "        vertical-align: top;\n",
       "    }\n",
       "\n",
       "    .dataframe thead th {\n",
       "        text-align: right;\n",
       "    }\n",
       "</style>\n",
       "<table border=\"1\" class=\"dataframe\">\n",
       "  <thead>\n",
       "    <tr style=\"text-align: right;\">\n",
       "      <th></th>\n",
       "      <th>tweet</th>\n",
       "      <th>sarcastic</th>\n",
       "    </tr>\n",
       "  </thead>\n",
       "  <tbody>\n",
       "    <tr>\n",
       "      <th>0</th>\n",
       "      <td>The only thing I got from college is a caffein...</td>\n",
       "      <td>1</td>\n",
       "    </tr>\n",
       "    <tr>\n",
       "      <th>1</th>\n",
       "      <td>I love it when professors draw a big question ...</td>\n",
       "      <td>1</td>\n",
       "    </tr>\n",
       "    <tr>\n",
       "      <th>2</th>\n",
       "      <td>Remember the hundred emails from companies whe...</td>\n",
       "      <td>1</td>\n",
       "    </tr>\n",
       "    <tr>\n",
       "      <th>3</th>\n",
       "      <td>Today my pop-pop told me I was not “forced” to...</td>\n",
       "      <td>1</td>\n",
       "    </tr>\n",
       "    <tr>\n",
       "      <th>4</th>\n",
       "      <td>@VolphanCarol @littlewhitty @mysticalmanatee I...</td>\n",
       "      <td>1</td>\n",
       "    </tr>\n",
       "    <tr>\n",
       "      <th>...</th>\n",
       "      <td>...</td>\n",
       "      <td>...</td>\n",
       "    </tr>\n",
       "    <tr>\n",
       "      <th>862</th>\n",
       "      <td>yo @claires do yall do hysterectomies?</td>\n",
       "      <td>1</td>\n",
       "    </tr>\n",
       "    <tr>\n",
       "      <th>863</th>\n",
       "      <td>@JacobWohlReport Do I need to aquire a wife be...</td>\n",
       "      <td>1</td>\n",
       "    </tr>\n",
       "    <tr>\n",
       "      <th>864</th>\n",
       "      <td>I get a lot of boy who cried wolf vibes from t...</td>\n",
       "      <td>1</td>\n",
       "    </tr>\n",
       "    <tr>\n",
       "      <th>865</th>\n",
       "      <td>Update: holding hands with your mom and walkin...</td>\n",
       "      <td>1</td>\n",
       "    </tr>\n",
       "    <tr>\n",
       "      <th>866</th>\n",
       "      <td>I might be rubbish at driving, and have a less...</td>\n",
       "      <td>1</td>\n",
       "    </tr>\n",
       "  </tbody>\n",
       "</table>\n",
       "<p>867 rows × 2 columns</p>\n",
       "</div>"
      ],
      "text/plain": [
       "                                                 tweet  sarcastic\n",
       "0    The only thing I got from college is a caffein...          1\n",
       "1    I love it when professors draw a big question ...          1\n",
       "2    Remember the hundred emails from companies whe...          1\n",
       "3    Today my pop-pop told me I was not “forced” to...          1\n",
       "4    @VolphanCarol @littlewhitty @mysticalmanatee I...          1\n",
       "..                                                 ...        ...\n",
       "862             yo @claires do yall do hysterectomies?          1\n",
       "863  @JacobWohlReport Do I need to aquire a wife be...          1\n",
       "864  I get a lot of boy who cried wolf vibes from t...          1\n",
       "865  Update: holding hands with your mom and walkin...          1\n",
       "866  I might be rubbish at driving, and have a less...          1\n",
       "\n",
       "[867 rows x 2 columns]"
      ]
     },
     "execution_count": 58,
     "metadata": {},
     "output_type": "execute_result"
    }
   ],
   "source": [
    "df_sarcasm"
   ]
  },
  {
   "cell_type": "code",
   "execution_count": 70,
   "id": "3e4bc629",
   "metadata": {},
   "outputs": [],
   "source": [
    "# rename the 'sarcastic' column to 'sentiment'\n",
    "df_sarcasm = df_sarcasm.rename(columns={'sarcastic': 'sentiment'})\n",
    "\n",
    "# replace all values in the 'sentiment' column from 1 to 3 to account for other sentiment labels\n",
    "df_sarcasm['sentiment'] = df_sarcasm['sentiment'].replace({1: 3})"
   ]
  },
  {
   "cell_type": "code",
   "execution_count": 71,
   "id": "51604618",
   "metadata": {},
   "outputs": [
    {
     "data": {
      "text/html": [
       "<div>\n",
       "<style scoped>\n",
       "    .dataframe tbody tr th:only-of-type {\n",
       "        vertical-align: middle;\n",
       "    }\n",
       "\n",
       "    .dataframe tbody tr th {\n",
       "        vertical-align: top;\n",
       "    }\n",
       "\n",
       "    .dataframe thead th {\n",
       "        text-align: right;\n",
       "    }\n",
       "</style>\n",
       "<table border=\"1\" class=\"dataframe\">\n",
       "  <thead>\n",
       "    <tr style=\"text-align: right;\">\n",
       "      <th></th>\n",
       "      <th>tweet</th>\n",
       "      <th>sentiment</th>\n",
       "    </tr>\n",
       "  </thead>\n",
       "  <tbody>\n",
       "    <tr>\n",
       "      <th>0</th>\n",
       "      <td>The only thing I got from college is a caffein...</td>\n",
       "      <td>3</td>\n",
       "    </tr>\n",
       "    <tr>\n",
       "      <th>1</th>\n",
       "      <td>I love it when professors draw a big question ...</td>\n",
       "      <td>3</td>\n",
       "    </tr>\n",
       "    <tr>\n",
       "      <th>2</th>\n",
       "      <td>Remember the hundred emails from companies whe...</td>\n",
       "      <td>3</td>\n",
       "    </tr>\n",
       "    <tr>\n",
       "      <th>3</th>\n",
       "      <td>Today my pop-pop told me I was not “forced” to...</td>\n",
       "      <td>3</td>\n",
       "    </tr>\n",
       "    <tr>\n",
       "      <th>4</th>\n",
       "      <td>@VolphanCarol @littlewhitty @mysticalmanatee I...</td>\n",
       "      <td>3</td>\n",
       "    </tr>\n",
       "    <tr>\n",
       "      <th>...</th>\n",
       "      <td>...</td>\n",
       "      <td>...</td>\n",
       "    </tr>\n",
       "    <tr>\n",
       "      <th>862</th>\n",
       "      <td>yo @claires do yall do hysterectomies?</td>\n",
       "      <td>3</td>\n",
       "    </tr>\n",
       "    <tr>\n",
       "      <th>863</th>\n",
       "      <td>@JacobWohlReport Do I need to aquire a wife be...</td>\n",
       "      <td>3</td>\n",
       "    </tr>\n",
       "    <tr>\n",
       "      <th>864</th>\n",
       "      <td>I get a lot of boy who cried wolf vibes from t...</td>\n",
       "      <td>3</td>\n",
       "    </tr>\n",
       "    <tr>\n",
       "      <th>865</th>\n",
       "      <td>Update: holding hands with your mom and walkin...</td>\n",
       "      <td>3</td>\n",
       "    </tr>\n",
       "    <tr>\n",
       "      <th>866</th>\n",
       "      <td>I might be rubbish at driving, and have a less...</td>\n",
       "      <td>3</td>\n",
       "    </tr>\n",
       "  </tbody>\n",
       "</table>\n",
       "<p>867 rows × 2 columns</p>\n",
       "</div>"
      ],
      "text/plain": [
       "                                                 tweet  sentiment\n",
       "0    The only thing I got from college is a caffein...          3\n",
       "1    I love it when professors draw a big question ...          3\n",
       "2    Remember the hundred emails from companies whe...          3\n",
       "3    Today my pop-pop told me I was not “forced” to...          3\n",
       "4    @VolphanCarol @littlewhitty @mysticalmanatee I...          3\n",
       "..                                                 ...        ...\n",
       "862             yo @claires do yall do hysterectomies?          3\n",
       "863  @JacobWohlReport Do I need to aquire a wife be...          3\n",
       "864  I get a lot of boy who cried wolf vibes from t...          3\n",
       "865  Update: holding hands with your mom and walkin...          3\n",
       "866  I might be rubbish at driving, and have a less...          3\n",
       "\n",
       "[867 rows x 2 columns]"
      ]
     },
     "execution_count": 71,
     "metadata": {},
     "output_type": "execute_result"
    }
   ],
   "source": [
    "df_sarcasm"
   ]
  },
  {
   "cell_type": "markdown",
   "id": "522f3ff6",
   "metadata": {},
   "source": [
    "## Sentiment Dataset Analysis"
   ]
  },
  {
   "cell_type": "code",
   "execution_count": 59,
   "id": "da963c83",
   "metadata": {},
   "outputs": [],
   "source": [
    "df_sentiment = pd.read_csv('sentiment_dataset.csv')"
   ]
  },
  {
   "cell_type": "code",
   "execution_count": 60,
   "id": "52c3ddb5",
   "metadata": {},
   "outputs": [
    {
     "data": {
      "text/html": [
       "<div>\n",
       "<style scoped>\n",
       "    .dataframe tbody tr th:only-of-type {\n",
       "        vertical-align: middle;\n",
       "    }\n",
       "\n",
       "    .dataframe tbody tr th {\n",
       "        vertical-align: top;\n",
       "    }\n",
       "\n",
       "    .dataframe thead th {\n",
       "        text-align: right;\n",
       "    }\n",
       "</style>\n",
       "<table border=\"1\" class=\"dataframe\">\n",
       "  <thead>\n",
       "    <tr style=\"text-align: right;\">\n",
       "      <th></th>\n",
       "      <th>Unnamed: 0</th>\n",
       "      <th>tweet</th>\n",
       "      <th>sentiment</th>\n",
       "    </tr>\n",
       "  </thead>\n",
       "  <tbody>\n",
       "    <tr>\n",
       "      <th>0</th>\n",
       "      <td>0</td>\n",
       "      <td>is upset that he can't update his Facebook by ...</td>\n",
       "      <td>0.0</td>\n",
       "    </tr>\n",
       "    <tr>\n",
       "      <th>1</th>\n",
       "      <td>1</td>\n",
       "      <td>@Kenichan I dived many times for the ball. Man...</td>\n",
       "      <td>0.0</td>\n",
       "    </tr>\n",
       "    <tr>\n",
       "      <th>2</th>\n",
       "      <td>2</td>\n",
       "      <td>my whole body feels itchy and like its on fire</td>\n",
       "      <td>0.0</td>\n",
       "    </tr>\n",
       "    <tr>\n",
       "      <th>3</th>\n",
       "      <td>3</td>\n",
       "      <td>@nationwideclass no, it's not behaving at all....</td>\n",
       "      <td>0.0</td>\n",
       "    </tr>\n",
       "    <tr>\n",
       "      <th>4</th>\n",
       "      <td>4</td>\n",
       "      <td>@Kwesidei not the whole crew</td>\n",
       "      <td>0.0</td>\n",
       "    </tr>\n",
       "    <tr>\n",
       "      <th>...</th>\n",
       "      <td>...</td>\n",
       "      <td>...</td>\n",
       "      <td>...</td>\n",
       "    </tr>\n",
       "    <tr>\n",
       "      <th>3142398</th>\n",
       "      <td>3142398</td>\n",
       "      <td>With ad revenues falling, what’s the impact on...</td>\n",
       "      <td>2.0</td>\n",
       "    </tr>\n",
       "    <tr>\n",
       "      <th>3142399</th>\n",
       "      <td>3142399</td>\n",
       "      <td>RT @KelvinSCWong: Well another point to add to...</td>\n",
       "      <td>2.0</td>\n",
       "    </tr>\n",
       "    <tr>\n",
       "      <th>3142400</th>\n",
       "      <td>3142400</td>\n",
       "      <td>$ITOX working on a contract with a fortune 500...</td>\n",
       "      <td>2.0</td>\n",
       "    </tr>\n",
       "    <tr>\n",
       "      <th>3142401</th>\n",
       "      <td>3142401</td>\n",
       "      <td>$DIS it could break the 120 pin, then 125&amp;gt; ...</td>\n",
       "      <td>2.0</td>\n",
       "    </tr>\n",
       "    <tr>\n",
       "      <th>3142402</th>\n",
       "      <td>3142402</td>\n",
       "      <td>Amedisys Inc $AMED COO Christopher Gerard Sell...</td>\n",
       "      <td>2.0</td>\n",
       "    </tr>\n",
       "  </tbody>\n",
       "</table>\n",
       "<p>3142403 rows × 3 columns</p>\n",
       "</div>"
      ],
      "text/plain": [
       "         Unnamed: 0                                              tweet  \\\n",
       "0                 0  is upset that he can't update his Facebook by ...   \n",
       "1                 1  @Kenichan I dived many times for the ball. Man...   \n",
       "2                 2    my whole body feels itchy and like its on fire    \n",
       "3                 3  @nationwideclass no, it's not behaving at all....   \n",
       "4                 4                      @Kwesidei not the whole crew    \n",
       "...             ...                                                ...   \n",
       "3142398     3142398  With ad revenues falling, what’s the impact on...   \n",
       "3142399     3142399  RT @KelvinSCWong: Well another point to add to...   \n",
       "3142400     3142400  $ITOX working on a contract with a fortune 500...   \n",
       "3142401     3142401  $DIS it could break the 120 pin, then 125&gt; ...   \n",
       "3142402     3142402  Amedisys Inc $AMED COO Christopher Gerard Sell...   \n",
       "\n",
       "         sentiment  \n",
       "0              0.0  \n",
       "1              0.0  \n",
       "2              0.0  \n",
       "3              0.0  \n",
       "4              0.0  \n",
       "...            ...  \n",
       "3142398        2.0  \n",
       "3142399        2.0  \n",
       "3142400        2.0  \n",
       "3142401        2.0  \n",
       "3142402        2.0  \n",
       "\n",
       "[3142403 rows x 3 columns]"
      ]
     },
     "execution_count": 60,
     "metadata": {},
     "output_type": "execute_result"
    }
   ],
   "source": [
    "df_sentiment"
   ]
  },
  {
   "cell_type": "code",
   "execution_count": 61,
   "id": "c987469f",
   "metadata": {},
   "outputs": [],
   "source": [
    "df_sentiment = df_sentiment.drop(df_sentiment.columns[0], axis=1)\n",
    "df_sentiment = df_sentiment.dropna(subset=['sentiment'])"
   ]
  },
  {
   "cell_type": "code",
   "execution_count": 62,
   "id": "a423b763",
   "metadata": {},
   "outputs": [
    {
     "data": {
      "text/html": [
       "<div>\n",
       "<style scoped>\n",
       "    .dataframe tbody tr th:only-of-type {\n",
       "        vertical-align: middle;\n",
       "    }\n",
       "\n",
       "    .dataframe tbody tr th {\n",
       "        vertical-align: top;\n",
       "    }\n",
       "\n",
       "    .dataframe thead th {\n",
       "        text-align: right;\n",
       "    }\n",
       "</style>\n",
       "<table border=\"1\" class=\"dataframe\">\n",
       "  <thead>\n",
       "    <tr style=\"text-align: right;\">\n",
       "      <th></th>\n",
       "      <th>tweet</th>\n",
       "      <th>sentiment</th>\n",
       "    </tr>\n",
       "  </thead>\n",
       "  <tbody>\n",
       "    <tr>\n",
       "      <th>0</th>\n",
       "      <td>is upset that he can't update his Facebook by ...</td>\n",
       "      <td>0.0</td>\n",
       "    </tr>\n",
       "    <tr>\n",
       "      <th>1</th>\n",
       "      <td>@Kenichan I dived many times for the ball. Man...</td>\n",
       "      <td>0.0</td>\n",
       "    </tr>\n",
       "    <tr>\n",
       "      <th>2</th>\n",
       "      <td>my whole body feels itchy and like its on fire</td>\n",
       "      <td>0.0</td>\n",
       "    </tr>\n",
       "    <tr>\n",
       "      <th>3</th>\n",
       "      <td>@nationwideclass no, it's not behaving at all....</td>\n",
       "      <td>0.0</td>\n",
       "    </tr>\n",
       "    <tr>\n",
       "      <th>4</th>\n",
       "      <td>@Kwesidei not the whole crew</td>\n",
       "      <td>0.0</td>\n",
       "    </tr>\n",
       "    <tr>\n",
       "      <th>...</th>\n",
       "      <td>...</td>\n",
       "      <td>...</td>\n",
       "    </tr>\n",
       "    <tr>\n",
       "      <th>3142398</th>\n",
       "      <td>With ad revenues falling, what’s the impact on...</td>\n",
       "      <td>2.0</td>\n",
       "    </tr>\n",
       "    <tr>\n",
       "      <th>3142399</th>\n",
       "      <td>RT @KelvinSCWong: Well another point to add to...</td>\n",
       "      <td>2.0</td>\n",
       "    </tr>\n",
       "    <tr>\n",
       "      <th>3142400</th>\n",
       "      <td>$ITOX working on a contract with a fortune 500...</td>\n",
       "      <td>2.0</td>\n",
       "    </tr>\n",
       "    <tr>\n",
       "      <th>3142401</th>\n",
       "      <td>$DIS it could break the 120 pin, then 125&amp;gt; ...</td>\n",
       "      <td>2.0</td>\n",
       "    </tr>\n",
       "    <tr>\n",
       "      <th>3142402</th>\n",
       "      <td>Amedisys Inc $AMED COO Christopher Gerard Sell...</td>\n",
       "      <td>2.0</td>\n",
       "    </tr>\n",
       "  </tbody>\n",
       "</table>\n",
       "<p>3142321 rows × 2 columns</p>\n",
       "</div>"
      ],
      "text/plain": [
       "                                                     tweet  sentiment\n",
       "0        is upset that he can't update his Facebook by ...        0.0\n",
       "1        @Kenichan I dived many times for the ball. Man...        0.0\n",
       "2          my whole body feels itchy and like its on fire         0.0\n",
       "3        @nationwideclass no, it's not behaving at all....        0.0\n",
       "4                            @Kwesidei not the whole crew         0.0\n",
       "...                                                    ...        ...\n",
       "3142398  With ad revenues falling, what’s the impact on...        2.0\n",
       "3142399  RT @KelvinSCWong: Well another point to add to...        2.0\n",
       "3142400  $ITOX working on a contract with a fortune 500...        2.0\n",
       "3142401  $DIS it could break the 120 pin, then 125&gt; ...        2.0\n",
       "3142402  Amedisys Inc $AMED COO Christopher Gerard Sell...        2.0\n",
       "\n",
       "[3142321 rows x 2 columns]"
      ]
     },
     "execution_count": 62,
     "metadata": {},
     "output_type": "execute_result"
    }
   ],
   "source": [
    "df_sentiment"
   ]
  },
  {
   "cell_type": "code",
   "execution_count": 63,
   "id": "be2cf78b",
   "metadata": {},
   "outputs": [],
   "source": [
    "df_sentiment[df_sentiment.columns[1]] = df_sentiment[df_sentiment.columns[1]].astype(int)"
   ]
  },
  {
   "cell_type": "code",
   "execution_count": 64,
   "id": "57b9b70c",
   "metadata": {
    "scrolled": true
   },
   "outputs": [
    {
     "data": {
      "text/html": [
       "<div>\n",
       "<style scoped>\n",
       "    .dataframe tbody tr th:only-of-type {\n",
       "        vertical-align: middle;\n",
       "    }\n",
       "\n",
       "    .dataframe tbody tr th {\n",
       "        vertical-align: top;\n",
       "    }\n",
       "\n",
       "    .dataframe thead th {\n",
       "        text-align: right;\n",
       "    }\n",
       "</style>\n",
       "<table border=\"1\" class=\"dataframe\">\n",
       "  <thead>\n",
       "    <tr style=\"text-align: right;\">\n",
       "      <th></th>\n",
       "      <th>tweet</th>\n",
       "      <th>sentiment</th>\n",
       "    </tr>\n",
       "  </thead>\n",
       "  <tbody>\n",
       "    <tr>\n",
       "      <th>1332530</th>\n",
       "      <td>Sims 3 in 2 days  YEAHHHH baby!</td>\n",
       "      <td>1</td>\n",
       "    </tr>\n",
       "    <tr>\n",
       "      <th>236939</th>\n",
       "      <td>Came outside but the sun keeps going in</td>\n",
       "      <td>0</td>\n",
       "    </tr>\n",
       "    <tr>\n",
       "      <th>1251498</th>\n",
       "      <td>@monikala nah it was actually a really good pi...</td>\n",
       "      <td>1</td>\n",
       "    </tr>\n",
       "    <tr>\n",
       "      <th>1595580</th>\n",
       "      <td>Watching fresh prince &amp;amp; painting my nailsss</td>\n",
       "      <td>1</td>\n",
       "    </tr>\n",
       "    <tr>\n",
       "      <th>747972</th>\n",
       "      <td>@hotshot1 Leeeeeeeeeeeeeeeeeeeeeeeeeeeeeeee I ...</td>\n",
       "      <td>0</td>\n",
       "    </tr>\n",
       "    <tr>\n",
       "      <th>562141</th>\n",
       "      <td>its way too early. i dont want to have an engl...</td>\n",
       "      <td>0</td>\n",
       "    </tr>\n",
       "    <tr>\n",
       "      <th>2291902</th>\n",
       "      <td>sorry to hear about your mom slash</td>\n",
       "      <td>0</td>\n",
       "    </tr>\n",
       "    <tr>\n",
       "      <th>2370634</th>\n",
       "      <td>so its blowing budget day</td>\n",
       "      <td>1</td>\n",
       "    </tr>\n",
       "    <tr>\n",
       "      <th>2487103</th>\n",
       "      <td>sureee emma just make people think that haha y...</td>\n",
       "      <td>1</td>\n",
       "    </tr>\n",
       "    <tr>\n",
       "      <th>425443</th>\n",
       "      <td>just made a huge mess of things because she ne...</td>\n",
       "      <td>0</td>\n",
       "    </tr>\n",
       "    <tr>\n",
       "      <th>284235</th>\n",
       "      <td>@rdornan Do you mean a good &amp;quot;look&amp;quot;? ...</td>\n",
       "      <td>0</td>\n",
       "    </tr>\n",
       "    <tr>\n",
       "      <th>2111805</th>\n",
       "      <td>wooow u got some of the jewelry i want some bu...</td>\n",
       "      <td>0</td>\n",
       "    </tr>\n",
       "    <tr>\n",
       "      <th>2270358</th>\n",
       "      <td>i m fighting to let go of the pillow top i hav...</td>\n",
       "      <td>0</td>\n",
       "    </tr>\n",
       "    <tr>\n",
       "      <th>556740</th>\n",
       "      <td>Going to bed now! Wednesday is the launch of t...</td>\n",
       "      <td>0</td>\n",
       "    </tr>\n",
       "    <tr>\n",
       "      <th>139528</th>\n",
       "      <td>I just listened to &amp;quot;Very Proud of Ya&amp;quot...</td>\n",
       "      <td>0</td>\n",
       "    </tr>\n",
       "    <tr>\n",
       "      <th>2943433</th>\n",
       "      <td>well meditating and praying working on my art</td>\n",
       "      <td>1</td>\n",
       "    </tr>\n",
       "    <tr>\n",
       "      <th>983692</th>\n",
       "      <td>@inkophile Yeah, I expected more of a traditio...</td>\n",
       "      <td>1</td>\n",
       "    </tr>\n",
       "    <tr>\n",
       "      <th>1008832</th>\n",
       "      <td>stop saying Kris Allen didn't deserve to win. ...</td>\n",
       "      <td>1</td>\n",
       "    </tr>\n",
       "    <tr>\n",
       "      <th>1639856</th>\n",
       "      <td>i m bored what are you doing right now</td>\n",
       "      <td>0</td>\n",
       "    </tr>\n",
       "    <tr>\n",
       "      <th>2775452</th>\n",
       "      <td>got my answer</td>\n",
       "      <td>1</td>\n",
       "    </tr>\n",
       "  </tbody>\n",
       "</table>\n",
       "</div>"
      ],
      "text/plain": [
       "                                                     tweet  sentiment\n",
       "1332530                    Sims 3 in 2 days  YEAHHHH baby!          1\n",
       "236939            Came outside but the sun keeps going in           0\n",
       "1251498  @monikala nah it was actually a really good pi...          1\n",
       "1595580   Watching fresh prince &amp; painting my nailsss           1\n",
       "747972   @hotshot1 Leeeeeeeeeeeeeeeeeeeeeeeeeeeeeeee I ...          0\n",
       "562141   its way too early. i dont want to have an engl...          0\n",
       "2291902                 sorry to hear about your mom slash          0\n",
       "2370634                          so its blowing budget day          1\n",
       "2487103  sureee emma just make people think that haha y...          1\n",
       "425443   just made a huge mess of things because she ne...          0\n",
       "284235   @rdornan Do you mean a good &quot;look&quot;? ...          0\n",
       "2111805  wooow u got some of the jewelry i want some bu...          0\n",
       "2270358  i m fighting to let go of the pillow top i hav...          0\n",
       "556740   Going to bed now! Wednesday is the launch of t...          0\n",
       "139528   I just listened to &quot;Very Proud of Ya&quot...          0\n",
       "2943433      well meditating and praying working on my art          1\n",
       "983692   @inkophile Yeah, I expected more of a traditio...          1\n",
       "1008832  stop saying Kris Allen didn't deserve to win. ...          1\n",
       "1639856             i m bored what are you doing right now          0\n",
       "2775452                                      got my answer          1"
      ]
     },
     "execution_count": 64,
     "metadata": {},
     "output_type": "execute_result"
    }
   ],
   "source": [
    "df_sentiment.sample(20)"
   ]
  },
  {
   "cell_type": "code",
   "execution_count": 65,
   "id": "14ab4526",
   "metadata": {},
   "outputs": [
    {
     "data": {
      "image/png": "[encoded data removed]",
      "text/plain": [
       "<Figure size 640x480 with 1 Axes>"
      ]
     },
     "metadata": {},
     "output_type": "display_data"
    }
   ],
   "source": [
    "sentiment_counts = df_sentiment['sentiment'].value_counts()\n",
    "b1 = sentiment_counts.plot(kind='bar')\n",
    "plt.xlabel('Sentiment Value')\n",
    "plt.ylabel('Count')\n",
    "plt.title('Sentiment Distribution')\n",
    "\n",
    "for i, count in enumerate(sentiment_counts):\n",
    "    b1.text(i, count + 0.1, str(count), ha='center', va='bottom')\n",
    "    \n",
    "plt.show()"
   ]
  },
  {
   "cell_type": "code",
   "execution_count": 90,
   "id": "718de3de",
   "metadata": {},
   "outputs": [],
   "source": [
    "df_0 = df_sentiment[df_sentiment['sentiment'] == 0]\n",
    "df_1 = df_sentiment[df_sentiment['sentiment'] == 1]\n",
    "df_2 = df_sentiment[df_sentiment['sentiment'] == 2]\n",
    "\n",
    "# randomly sample rows from df_0 and df_1 based on the count for sarcastic comments from the other dataset\n",
    "# the goal is to make dataset more balanced and faster to process\n",
    "sampled_df_0 = df_0.sample(n=867, replace=False, random_state=42)\n",
    "sampled_df_1 = df_1.sample(n=867, replace=False, random_state=42)\n",
    "sampled_df_2 = df_2.sample(n=867, replace=False, random_state=42)\n",
    "\n",
    "sampled_df = pd.concat([sampled_df_0, sampled_df_1, sampled_df_2])\n",
    "sampled_df = sampled_df.sample(frac=1, random_state=42).reset_index(drop=True)"
   ]
  },
  {
   "cell_type": "code",
   "execution_count": 91,
   "id": "688cf35e",
   "metadata": {
    "scrolled": true
   },
   "outputs": [
    {
     "data": {
      "text/html": [
       "<div>\n",
       "<style scoped>\n",
       "    .dataframe tbody tr th:only-of-type {\n",
       "        vertical-align: middle;\n",
       "    }\n",
       "\n",
       "    .dataframe tbody tr th {\n",
       "        vertical-align: top;\n",
       "    }\n",
       "\n",
       "    .dataframe thead th {\n",
       "        text-align: right;\n",
       "    }\n",
       "</style>\n",
       "<table border=\"1\" class=\"dataframe\">\n",
       "  <thead>\n",
       "    <tr style=\"text-align: right;\">\n",
       "      <th></th>\n",
       "      <th>tweet</th>\n",
       "      <th>sentiment</th>\n",
       "    </tr>\n",
       "  </thead>\n",
       "  <tbody>\n",
       "    <tr>\n",
       "      <th>0</th>\n",
       "      <td>last day of our swimming classes last semester...</td>\n",
       "      <td>1</td>\n",
       "    </tr>\n",
       "    <tr>\n",
       "      <th>1</th>\n",
       "      <td>just watched devil wears prada, and i want to ...</td>\n",
       "      <td>0</td>\n",
       "    </tr>\n",
       "    <tr>\n",
       "      <th>2</th>\n",
       "      <td>so nice to get back from work enjoy the last o...</td>\n",
       "      <td>0</td>\n",
       "    </tr>\n",
       "    <tr>\n",
       "      <th>3</th>\n",
       "      <td>$SPX Minor Breakout Pattern \\nDaily appearance...</td>\n",
       "      <td>2</td>\n",
       "    </tr>\n",
       "    <tr>\n",
       "      <th>4</th>\n",
       "      <td>would vote for himself, but unfortunatelly tha...</td>\n",
       "      <td>1</td>\n",
       "    </tr>\n",
       "    <tr>\n",
       "      <th>...</th>\n",
       "      <td>...</td>\n",
       "      <td>...</td>\n",
       "    </tr>\n",
       "    <tr>\n",
       "      <th>2596</th>\n",
       "      <td>just watched kellie pickler on ellen! aw man f...</td>\n",
       "      <td>1</td>\n",
       "    </tr>\n",
       "    <tr>\n",
       "      <th>2597</th>\n",
       "      <td>getting ready for work more day after this</td>\n",
       "      <td>1</td>\n",
       "    </tr>\n",
       "    <tr>\n",
       "      <th>2598</th>\n",
       "      <td>im going driving today! at 6:15-9:15 with MONI...</td>\n",
       "      <td>1</td>\n",
       "    </tr>\n",
       "    <tr>\n",
       "      <th>2599</th>\n",
       "      <td>heading for work. So happy that i have only on...</td>\n",
       "      <td>1</td>\n",
       "    </tr>\n",
       "    <tr>\n",
       "      <th>2600</th>\n",
       "      <td>back to boring office</td>\n",
       "      <td>0</td>\n",
       "    </tr>\n",
       "  </tbody>\n",
       "</table>\n",
       "<p>2601 rows × 2 columns</p>\n",
       "</div>"
      ],
      "text/plain": [
       "                                                  tweet  sentiment\n",
       "0     last day of our swimming classes last semester...          1\n",
       "1     just watched devil wears prada, and i want to ...          0\n",
       "2     so nice to get back from work enjoy the last o...          0\n",
       "3     $SPX Minor Breakout Pattern \\nDaily appearance...          2\n",
       "4     would vote for himself, but unfortunatelly tha...          1\n",
       "...                                                 ...        ...\n",
       "2596  just watched kellie pickler on ellen! aw man f...          1\n",
       "2597         getting ready for work more day after this          1\n",
       "2598  im going driving today! at 6:15-9:15 with MONI...          1\n",
       "2599  heading for work. So happy that i have only on...          1\n",
       "2600                              back to boring office          0\n",
       "\n",
       "[2601 rows x 2 columns]"
      ]
     },
     "execution_count": 91,
     "metadata": {},
     "output_type": "execute_result"
    }
   ],
   "source": [
    "sampled_df"
   ]
  },
  {
   "cell_type": "code",
   "execution_count": 92,
   "id": "74079ac5",
   "metadata": {},
   "outputs": [
    {
     "data": {
      "image/png": "[encoded data removed]",
      "text/plain": [
       "<Figure size 640x480 with 1 Axes>"
      ]
     },
     "metadata": {},
     "output_type": "display_data"
    }
   ],
   "source": [
    "sentiment_counts = sampled_df['sentiment'].value_counts()\n",
    "sentiment_counts.index = sentiment_counts.index.map({0: 'Negative', 1: 'Positive', 2: 'Neutral'})\n",
    "b2 = sentiment_counts.plot(kind='bar')\n",
    "plt.xlabel('Sentiment Value')\n",
    "plt.ylabel('Count')\n",
    "plt.title('Sentiment Distribution')\n",
    "\n",
    "for i, count in enumerate(sentiment_counts):\n",
    "    b2.text(i, count + 0.1, str(count), ha='center', va='bottom')\n",
    "\n",
    "plt.show()"
   ]
  },
  {
   "cell_type": "code",
   "execution_count": 93,
   "id": "e3fa526c",
   "metadata": {},
   "outputs": [
    {
     "data": {
      "text/html": [
       "<div>\n",
       "<style scoped>\n",
       "    .dataframe tbody tr th:only-of-type {\n",
       "        vertical-align: middle;\n",
       "    }\n",
       "\n",
       "    .dataframe tbody tr th {\n",
       "        vertical-align: top;\n",
       "    }\n",
       "\n",
       "    .dataframe thead th {\n",
       "        text-align: right;\n",
       "    }\n",
       "</style>\n",
       "<table border=\"1\" class=\"dataframe\">\n",
       "  <thead>\n",
       "    <tr style=\"text-align: right;\">\n",
       "      <th></th>\n",
       "      <th>tweet</th>\n",
       "      <th>sentiment</th>\n",
       "    </tr>\n",
       "  </thead>\n",
       "  <tbody>\n",
       "    <tr>\n",
       "      <th>1374</th>\n",
       "      <td>RT @DeItaOne: COVID-19 VACCINE FROM PFIZER AND...</td>\n",
       "      <td>2</td>\n",
       "    </tr>\n",
       "    <tr>\n",
       "      <th>2556</th>\n",
       "      <td>@YESandME did he leave us?</td>\n",
       "      <td>0</td>\n",
       "    </tr>\n",
       "    <tr>\n",
       "      <th>148</th>\n",
       "      <td>RT @RichLightShed: Over 25 million @HBO subscr...</td>\n",
       "      <td>2</td>\n",
       "    </tr>\n",
       "    <tr>\n",
       "      <th>2130</th>\n",
       "      <td>Chillin</td>\n",
       "      <td>1</td>\n",
       "    </tr>\n",
       "    <tr>\n",
       "      <th>1808</th>\n",
       "      <td>@Splinteredmind correlation is good enough for...</td>\n",
       "      <td>1</td>\n",
       "    </tr>\n",
       "    <tr>\n",
       "      <th>1601</th>\n",
       "      <td>Just checking through the stores inventory to ...</td>\n",
       "      <td>1</td>\n",
       "    </tr>\n",
       "    <tr>\n",
       "      <th>520</th>\n",
       "      <td>no idea what i have i think it s ei i m sad now</td>\n",
       "      <td>0</td>\n",
       "    </tr>\n",
       "    <tr>\n",
       "      <th>734</th>\n",
       "      <td>heck yea bbq .  i'm supposed to be studying my...</td>\n",
       "      <td>0</td>\n",
       "    </tr>\n",
       "    <tr>\n",
       "      <th>931</th>\n",
       "      <td>i m glad it can bring you so much joy ha ha ha...</td>\n",
       "      <td>1</td>\n",
       "    </tr>\n",
       "    <tr>\n",
       "      <th>617</th>\n",
       "      <td>i seem to be having twitter api problems</td>\n",
       "      <td>0</td>\n",
       "    </tr>\n",
       "    <tr>\n",
       "      <th>1505</th>\n",
       "      <td>Bed time... What a gnarly day. Ah well, my lis...</td>\n",
       "      <td>0</td>\n",
       "    </tr>\n",
       "    <tr>\n",
       "      <th>2244</th>\n",
       "      <td>the entrance test was super difficult im not s...</td>\n",
       "      <td>0</td>\n",
       "    </tr>\n",
       "    <tr>\n",
       "      <th>2248</th>\n",
       "      <td>U.S. HHS Purchases Becton Dikinson Covid-19 Ra...</td>\n",
       "      <td>2</td>\n",
       "    </tr>\n",
       "    <tr>\n",
       "      <th>2473</th>\n",
       "      <td>dont know if you got my text cause they shut o...</td>\n",
       "      <td>0</td>\n",
       "    </tr>\n",
       "    <tr>\n",
       "      <th>586</th>\n",
       "      <td>with derek today</td>\n",
       "      <td>1</td>\n",
       "    </tr>\n",
       "    <tr>\n",
       "      <th>227</th>\n",
       "      <td>hey how are you guys can get tickets to see yo...</td>\n",
       "      <td>0</td>\n",
       "    </tr>\n",
       "    <tr>\n",
       "      <th>2246</th>\n",
       "      <td>olo to the roof not the outlaw</td>\n",
       "      <td>0</td>\n",
       "    </tr>\n",
       "    <tr>\n",
       "      <th>2527</th>\n",
       "      <td>Trusting in God is the best way to go for busi...</td>\n",
       "      <td>1</td>\n",
       "    </tr>\n",
       "    <tr>\n",
       "      <th>1108</th>\n",
       "      <td>$MT - ArcelorMittal Up Nicely Off The Bottom, ...</td>\n",
       "      <td>2</td>\n",
       "    </tr>\n",
       "    <tr>\n",
       "      <th>832</th>\n",
       "      <td>is happy to see missed ya punkin</td>\n",
       "      <td>1</td>\n",
       "    </tr>\n",
       "  </tbody>\n",
       "</table>\n",
       "</div>"
      ],
      "text/plain": [
       "                                                  tweet  sentiment\n",
       "1374  RT @DeItaOne: COVID-19 VACCINE FROM PFIZER AND...          2\n",
       "2556                        @YESandME did he leave us?           0\n",
       "148   RT @RichLightShed: Over 25 million @HBO subscr...          2\n",
       "2130                                           Chillin           1\n",
       "1808  @Splinteredmind correlation is good enough for...          1\n",
       "1601  Just checking through the stores inventory to ...          1\n",
       "520     no idea what i have i think it s ei i m sad now          0\n",
       "734   heck yea bbq .  i'm supposed to be studying my...          0\n",
       "931   i m glad it can bring you so much joy ha ha ha...          1\n",
       "617            i seem to be having twitter api problems          0\n",
       "1505  Bed time... What a gnarly day. Ah well, my lis...          0\n",
       "2244  the entrance test was super difficult im not s...          0\n",
       "2248  U.S. HHS Purchases Becton Dikinson Covid-19 Ra...          2\n",
       "2473  dont know if you got my text cause they shut o...          0\n",
       "586                                    with derek today          1\n",
       "227   hey how are you guys can get tickets to see yo...          0\n",
       "2246                     olo to the roof not the outlaw          0\n",
       "2527  Trusting in God is the best way to go for busi...          1\n",
       "1108  $MT - ArcelorMittal Up Nicely Off The Bottom, ...          2\n",
       "832                    is happy to see missed ya punkin          1"
      ]
     },
     "execution_count": 93,
     "metadata": {},
     "output_type": "execute_result"
    }
   ],
   "source": [
    "sampled_df.sample(20)"
   ]
  },
  {
   "cell_type": "markdown",
   "id": "df18b067",
   "metadata": {},
   "source": [
    "## Combine Datasets"
   ]
  },
  {
   "cell_type": "code",
   "execution_count": 98,
   "id": "1e4a8b63",
   "metadata": {},
   "outputs": [],
   "source": [
    "dataset = pd.concat([sampled_df, df_sarcasm], ignore_index=True)"
   ]
  },
  {
   "cell_type": "code",
   "execution_count": 99,
   "id": "3da35a26",
   "metadata": {},
   "outputs": [
    {
     "data": {
      "text/plain": [
       "3468"
      ]
     },
     "execution_count": 99,
     "metadata": {},
     "output_type": "execute_result"
    }
   ],
   "source": [
    "len(dataset)"
   ]
  },
  {
   "cell_type": "code",
   "execution_count": 100,
   "id": "2a2fe354",
   "metadata": {},
   "outputs": [
    {
     "data": {
      "image/png": "[encoded data removed]",
      "text/plain": [
       "<Figure size 640x480 with 1 Axes>"
      ]
     },
     "metadata": {},
     "output_type": "display_data"
    }
   ],
   "source": [
    "counts = dataset['sentiment'].value_counts()\n",
    "counts.index = counts.index.map({0: 'Negative', 1: 'Positive', 2: 'Neutral', 3: 'Sarcastic'})\n",
    "b3 = counts.plot(kind='bar')\n",
    "plt.xlabel('Sentiment Value')\n",
    "plt.ylabel('Count')\n",
    "plt.title('Sentiment Distribution')\n",
    "\n",
    "for i, count in enumerate(counts):\n",
    "    b2.text(i, count + 0.1, str(count), ha='center', va='bottom')\n",
    "\n",
    "plt.show()"
   ]
  },
  {
   "cell_type": "code",
   "execution_count": 101,
   "id": "52b72d4e",
   "metadata": {},
   "outputs": [
    {
     "data": {
      "text/html": [
       "<div>\n",
       "<style scoped>\n",
       "    .dataframe tbody tr th:only-of-type {\n",
       "        vertical-align: middle;\n",
       "    }\n",
       "\n",
       "    .dataframe tbody tr th {\n",
       "        vertical-align: top;\n",
       "    }\n",
       "\n",
       "    .dataframe thead th {\n",
       "        text-align: right;\n",
       "    }\n",
       "</style>\n",
       "<table border=\"1\" class=\"dataframe\">\n",
       "  <thead>\n",
       "    <tr style=\"text-align: right;\">\n",
       "      <th></th>\n",
       "      <th>tweet</th>\n",
       "      <th>sentiment</th>\n",
       "    </tr>\n",
       "  </thead>\n",
       "  <tbody>\n",
       "    <tr>\n",
       "      <th>485</th>\n",
       "      <td>very bored at home</td>\n",
       "      <td>0</td>\n",
       "    </tr>\n",
       "    <tr>\n",
       "      <th>3058</th>\n",
       "      <td>you know what’s a novel concept? rapists and s...</td>\n",
       "      <td>3</td>\n",
       "    </tr>\n",
       "    <tr>\n",
       "      <th>1666</th>\n",
       "      <td>heh i don t think i ll get a contract one not ...</td>\n",
       "      <td>0</td>\n",
       "    </tr>\n",
       "    <tr>\n",
       "      <th>1293</th>\n",
       "      <td>My little guy just said &amp;quot;Daddy!&amp;quot; He'...</td>\n",
       "      <td>1</td>\n",
       "    </tr>\n",
       "    <tr>\n",
       "      <th>59</th>\n",
       "      <td>what happened to where did she go</td>\n",
       "      <td>0</td>\n",
       "    </tr>\n",
       "    <tr>\n",
       "      <th>2862</th>\n",
       "      <td>Men will literally fake an injury on the footb...</td>\n",
       "      <td>3</td>\n",
       "    </tr>\n",
       "    <tr>\n",
       "      <th>1561</th>\n",
       "      <td>If you sitting there wanting to short everythi...</td>\n",
       "      <td>2</td>\n",
       "    </tr>\n",
       "    <tr>\n",
       "      <th>3212</th>\n",
       "      <td>this time tomorrow i'll be dying at school Can...</td>\n",
       "      <td>3</td>\n",
       "    </tr>\n",
       "    <tr>\n",
       "      <th>481</th>\n",
       "      <td>Aaaah so scared! F1's actually split in two!  ...</td>\n",
       "      <td>0</td>\n",
       "    </tr>\n",
       "    <tr>\n",
       "      <th>480</th>\n",
       "      <td>@kyee Sold full position in $WM yesterday and ...</td>\n",
       "      <td>2</td>\n",
       "    </tr>\n",
       "    <tr>\n",
       "      <th>923</th>\n",
       "      <td>yeah now we know that proper puerto rico trave...</td>\n",
       "      <td>1</td>\n",
       "    </tr>\n",
       "    <tr>\n",
       "      <th>2679</th>\n",
       "      <td>if you see me crying in the self-service car w...</td>\n",
       "      <td>3</td>\n",
       "    </tr>\n",
       "    <tr>\n",
       "      <th>1498</th>\n",
       "      <td>Hancock Capital collects $380m for sixth mezza...</td>\n",
       "      <td>2</td>\n",
       "    </tr>\n",
       "    <tr>\n",
       "      <th>3439</th>\n",
       "      <td>shoutout to the assholes at basically every ga...</td>\n",
       "      <td>3</td>\n",
       "    </tr>\n",
       "    <tr>\n",
       "      <th>136</th>\n",
       "      <td>@captjohnathan That comment is so you.  I LOVE...</td>\n",
       "      <td>1</td>\n",
       "    </tr>\n",
       "    <tr>\n",
       "      <th>876</th>\n",
       "      <td>oh yea no doubt i always hope my friends new o...</td>\n",
       "      <td>1</td>\n",
       "    </tr>\n",
       "    <tr>\n",
       "      <th>1933</th>\n",
       "      <td>i m from long island what do you mean</td>\n",
       "      <td>1</td>\n",
       "    </tr>\n",
       "    <tr>\n",
       "      <th>810</th>\n",
       "      <td>i m still better than lots of younger folks ca...</td>\n",
       "      <td>1</td>\n",
       "    </tr>\n",
       "    <tr>\n",
       "      <th>2151</th>\n",
       "      <td>Demonstrator contract for Franco-German fighte...</td>\n",
       "      <td>2</td>\n",
       "    </tr>\n",
       "    <tr>\n",
       "      <th>3184</th>\n",
       "      <td>Just rediscovered that my nose is always in my...</td>\n",
       "      <td>3</td>\n",
       "    </tr>\n",
       "    <tr>\n",
       "      <th>433</th>\n",
       "      <td>Pyxus International among consumer gainers; Tu...</td>\n",
       "      <td>2</td>\n",
       "    </tr>\n",
       "    <tr>\n",
       "      <th>2266</th>\n",
       "      <td>@AndySlade1 is going to the cinemas later to s...</td>\n",
       "      <td>1</td>\n",
       "    </tr>\n",
       "    <tr>\n",
       "      <th>1224</th>\n",
       "      <td>RT @mchaudhry82: Top Bullish Flow (a/o12:38pmE...</td>\n",
       "      <td>2</td>\n",
       "    </tr>\n",
       "    <tr>\n",
       "      <th>1172</th>\n",
       "      <td>here i am realisation dawns no wait sorry alre...</td>\n",
       "      <td>0</td>\n",
       "    </tr>\n",
       "    <tr>\n",
       "      <th>737</th>\n",
       "      <td>@ShoeSmitten hey stranger</td>\n",
       "      <td>1</td>\n",
       "    </tr>\n",
       "    <tr>\n",
       "      <th>1676</th>\n",
       "      <td>really really worried about the test cheat today</td>\n",
       "      <td>0</td>\n",
       "    </tr>\n",
       "    <tr>\n",
       "      <th>130</th>\n",
       "      <td>American Express offers sign-up bonuses to lur...</td>\n",
       "      <td>2</td>\n",
       "    </tr>\n",
       "    <tr>\n",
       "      <th>2630</th>\n",
       "      <td>just wondering how to get my diss down by 1500...</td>\n",
       "      <td>3</td>\n",
       "    </tr>\n",
       "    <tr>\n",
       "      <th>3068</th>\n",
       "      <td>So my Twitter feed has to show me what tweets ...</td>\n",
       "      <td>3</td>\n",
       "    </tr>\n",
       "    <tr>\n",
       "      <th>2046</th>\n",
       "      <td>#FUTURES | Before Image- June #DowJones, #SP50...</td>\n",
       "      <td>2</td>\n",
       "    </tr>\n",
       "  </tbody>\n",
       "</table>\n",
       "</div>"
      ],
      "text/plain": [
       "                                                  tweet  sentiment\n",
       "485                                  very bored at home          0\n",
       "3058  you know what’s a novel concept? rapists and s...          3\n",
       "1666  heh i don t think i ll get a contract one not ...          0\n",
       "1293  My little guy just said &quot;Daddy!&quot; He'...          1\n",
       "59                    what happened to where did she go          0\n",
       "2862  Men will literally fake an injury on the footb...          3\n",
       "1561  If you sitting there wanting to short everythi...          2\n",
       "3212  this time tomorrow i'll be dying at school Can...          3\n",
       "481   Aaaah so scared! F1's actually split in two!  ...          0\n",
       "480   @kyee Sold full position in $WM yesterday and ...          2\n",
       "923   yeah now we know that proper puerto rico trave...          1\n",
       "2679  if you see me crying in the self-service car w...          3\n",
       "1498  Hancock Capital collects $380m for sixth mezza...          2\n",
       "3439  shoutout to the assholes at basically every ga...          3\n",
       "136   @captjohnathan That comment is so you.  I LOVE...          1\n",
       "876   oh yea no doubt i always hope my friends new o...          1\n",
       "1933              i m from long island what do you mean          1\n",
       "810   i m still better than lots of younger folks ca...          1\n",
       "2151  Demonstrator contract for Franco-German fighte...          2\n",
       "3184  Just rediscovered that my nose is always in my...          3\n",
       "433   Pyxus International among consumer gainers; Tu...          2\n",
       "2266  @AndySlade1 is going to the cinemas later to s...          1\n",
       "1224  RT @mchaudhry82: Top Bullish Flow (a/o12:38pmE...          2\n",
       "1172  here i am realisation dawns no wait sorry alre...          0\n",
       "737                          @ShoeSmitten hey stranger           1\n",
       "1676   really really worried about the test cheat today          0\n",
       "130   American Express offers sign-up bonuses to lur...          2\n",
       "2630  just wondering how to get my diss down by 1500...          3\n",
       "3068  So my Twitter feed has to show me what tweets ...          3\n",
       "2046  #FUTURES | Before Image- June #DowJones, #SP50...          2"
      ]
     },
     "execution_count": 101,
     "metadata": {},
     "output_type": "execute_result"
    }
   ],
   "source": [
    "dataset.sample(30)"
   ]
  },
  {
   "cell_type": "markdown",
   "id": "e117c6ca",
   "metadata": {},
   "source": [
    "## Preprocess Data"
   ]
  },
  {
   "cell_type": "code",
   "execution_count": 103,
   "id": "12df1397",
   "metadata": {},
   "outputs": [
    {
     "data": {
      "text/plain": [
       "0    last day of our swimming classes last semester...\n",
       "1    just watched devil wears prada, and i want to ...\n",
       "2    so nice to get back from work enjoy the last o...\n",
       "3    $spx minor breakout pattern \\ndaily appearance...\n",
       "4    would vote for himself, but unfortunatelly tha...\n",
       "Name: tweet, dtype: object"
      ]
     },
     "execution_count": 103,
     "metadata": {},
     "output_type": "execute_result"
    }
   ],
   "source": [
    "# convert to lowercase\n",
    "dataset['tweet'] = dataset['tweet'].str.lower()\n",
    "dataset['tweet'].head()"
   ]
  },
  {
   "cell_type": "code",
   "execution_count": 114,
   "id": "58d4cb93",
   "metadata": {},
   "outputs": [
    {
     "data": {
      "text/plain": [
       "0    last day swimming classes last semester haha m...\n",
       "1    watched devil wears prada want live new york c...\n",
       "2    nice get back work enjoy last sun revision oh ...\n",
       "3    spx minor breakout pattern daily appearances s...\n",
       "4    would vote but unfortunatelly name didnt pop l...\n",
       "Name: tweet, dtype: object"
      ]
     },
     "execution_count": 114,
     "metadata": {},
     "output_type": "execute_result"
    }
   ],
   "source": [
    "# remove stopwords\n",
    "stopwordlist = ['a', 'about', 'above', 'after', 'again', 'ain', 'all', 'am', 'an',\n",
    "             'and','any','are', 'as', 'at', 'be', 'because', 'been', 'before',\n",
    "             'being', 'below', 'between','both', 'by', 'can', 'd', 'did', 'do',\n",
    "             'does', 'doing', 'down', 'during', 'each','few', 'for', 'from',\n",
    "             'further', 'had', 'has', 'have', 'having', 'he', 'her', 'here',\n",
    "             'hers', 'herself', 'him', 'himself', 'his', 'how', 'i', 'if', 'in',\n",
    "             'into','is', 'it', 'its', 'itself', 'just', 'll', 'm', 'ma',\n",
    "             'me', 'more', 'most','my', 'myself', 'now', 'o', 'of', 'on', 'once',\n",
    "             'only', 'or', 'other', 'our', 'ours','ourselves', 'out', 'own', 're','s', 'same', 'she', \"shes\", 'should', \"shouldve\",'so', 'some', 'such',\n",
    "             't', 'than', 'that', \"thatll\", 'the', 'their', 'theirs', 'them',\n",
    "             'themselves', 'then', 'there', 'these', 'they', 'this', 'those',\n",
    "             'through', 'to', 'too','under', 'until', 'up', 've', 'very', 'was',\n",
    "             'we', 'were', 'what', 'when', 'where','which','while', 'who', 'whom',\n",
    "             'why', 'will', 'with', 'won', 'y', 'you', \"youd\",\"youll\", \"youre\",\n",
    "             \"youve\", 'your', 'yours', 'yourself', 'yourselves']\n",
    "\n",
    "STOPWORDS = set(stopwordlist)\n",
    "\n",
    "def remove_stopwords(text):\n",
    "    words = str(text).split()\n",
    "    filtered_words = [word for word in words if word not in STOPWORDS]\n",
    "    return \" \".join(filtered_words)\n",
    "\n",
    "dataset['tweet'] = dataset['tweet'].apply(remove_stopwords)\n",
    "dataset['tweet'].head()"
   ]
  },
  {
   "cell_type": "code",
   "execution_count": 120,
   "id": "7d43812a",
   "metadata": {},
   "outputs": [
    {
     "data": {
      "text/plain": [
       "0    last day swimming classes last semester haha m...\n",
       "1    watched devil wears prada want live new york c...\n",
       "2    nice get back work enjoy last sun revision oh ...\n",
       "3    spx minor breakout pattern daily appearances s...\n",
       "4    would vote but unfortunatelly name didnt pop l...\n",
       "Name: tweet, dtype: object"
      ]
     },
     "execution_count": 120,
     "metadata": {},
     "output_type": "execute_result"
    }
   ],
   "source": [
    "# remove punctuation\n",
    "punctuations_list = string.punctuation\n",
    "\n",
    "def remove_punctuations(text):\n",
    "    translator = str.maketrans('', '', punctuations_list)\n",
    "    return text.translate(translator)\n",
    "\n",
    "dataset['tweet'] = dataset['tweet'].apply(remove_punctuations)\n",
    "dataset['tweet'].head()"
   ]
  },
  {
   "cell_type": "code",
   "execution_count": 117,
   "id": "e6d725d5",
   "metadata": {},
   "outputs": [
    {
     "data": {
      "text/plain": [
       "0    last day swimming classes last semester haha m...\n",
       "1    watched devil wears prada want live new york c...\n",
       "2    nice get back work enjoy last sun revision oh ...\n",
       "3    spx minor breakout pattern daily appearances s...\n",
       "4    would vote but unfortunatelly name didnt pop l...\n",
       "Name: tweet, dtype: object"
      ]
     },
     "execution_count": 117,
     "metadata": {},
     "output_type": "execute_result"
    }
   ],
   "source": [
    "# remove urls\n",
    "def remove_URLs(data):\n",
    "    return re.sub('((www.[^s]+)|(https?://[^s]+))',' ',data)\n",
    "\n",
    "dataset['tweet'] = dataset['tweet'].apply(remove_URLs)\n",
    "dataset['tweet'].head()"
   ]
  },
  {
   "cell_type": "code",
   "execution_count": 118,
   "id": "9d724a22",
   "metadata": {},
   "outputs": [
    {
     "data": {
      "text/plain": [
       "0    last day swimming classes last semester haha m...\n",
       "1    watched devil wears prada want live new york c...\n",
       "2    nice get back work enjoy last sun revision oh ...\n",
       "3    spx minor breakout pattern daily appearances s...\n",
       "4    would vote but unfortunatelly name didnt pop l...\n",
       "Name: tweet, dtype: object"
      ]
     },
     "execution_count": 118,
     "metadata": {},
     "output_type": "execute_result"
    }
   ],
   "source": [
    "# remove numbers\n",
    "def remove_numbers(data):\n",
    "    return re.sub('[0-9]+', '', data)\n",
    "\n",
    "dataset['tweet'] = dataset['tweet'].apply(remove_numbers)\n",
    "dataset['tweet'].head()"
   ]
  },
  {
   "cell_type": "code",
   "execution_count": 122,
   "id": "4dbf054e",
   "metadata": {},
   "outputs": [
    {
     "data": {
      "text/plain": [
       "0    [last, day, swimming, classes, last, semester,...\n",
       "1    [watched, devil, wears, prada, want, live, new...\n",
       "2    [nice, get, back, work, enjoy, last, sun, revi...\n",
       "3    [spx, minor, breakout, pattern, daily, appeara...\n",
       "4    [would, vote, but, unfortunatelly, name, didnt...\n",
       "Name: tweet, dtype: object"
      ]
     },
     "execution_count": 122,
     "metadata": {},
     "output_type": "execute_result"
    }
   ],
   "source": [
    "# tokenization\n",
    "tokenizer = RegexpTokenizer(r'\\w+')\n",
    "dataset['tweet'] = dataset['tweet'].astype(str)\n",
    "dataset['tweet'] = dataset['tweet'].apply(tokenizer.tokenize)\n",
    "dataset['tweet'].head()"
   ]
  },
  {
   "cell_type": "code",
   "execution_count": 131,
   "id": "7af62e9f",
   "metadata": {},
   "outputs": [
    {
     "data": {
      "text/plain": [
       "0    [last, day, swim, class, last, semest, haha, m...\n",
       "1    [watch, devil, wear, prada, want, live, new, y...\n",
       "2    [nice, get, back, work, enjoy, last, sun, revi...\n",
       "3    [spx, minor, breakout, pattern, daili, appear,...\n",
       "4    [would, vote, but, unfortunatelli, name, didnt...\n",
       "Name: tweet, dtype: object"
      ]
     },
     "execution_count": 131,
     "metadata": {},
     "output_type": "execute_result"
    }
   ],
   "source": [
    "# stemming\n",
    "st = nltk.PorterStemmer()\n",
    "def stemming_on_text(data):\n",
    "    return[st.stem(word) for word in data]\n",
    "\n",
    "dataset['tweet']= dataset['tweet'].apply(stemming_on_text)\n",
    "dataset['tweet'].head()"
   ]
  },
  {
   "cell_type": "code",
   "execution_count": 133,
   "id": "e927e0d4",
   "metadata": {
    "scrolled": true
   },
   "outputs": [
    {
     "data": {
      "text/plain": [
       "0    [last, day, swim, class, last, semest, haha, m...\n",
       "1    [watch, devil, wear, prada, want, live, new, y...\n",
       "2    [nice, get, back, work, enjoy, last, sun, revi...\n",
       "3    [spx, minor, breakout, pattern, daili, appear,...\n",
       "4    [would, vote, but, unfortunatelli, name, didnt...\n",
       "Name: tweet, dtype: object"
      ]
     },
     "execution_count": 133,
     "metadata": {},
     "output_type": "execute_result"
    }
   ],
   "source": [
    "# lemmatization\n",
    "lm = nltk.WordNetLemmatizer()\n",
    "def lemmatizer_on_text(data):\n",
    "    return[lm.lemmatize(word) for word in data]\n",
    "\n",
    "dataset['tweet'] = dataset['tweet'].apply(lemmatizer_on_text)\n",
    "dataset['tweet'].head()"
   ]
  },
  {
   "cell_type": "markdown",
   "id": "2bca6980",
   "metadata": {},
   "source": [
    "## Transform Dataset Using TF-IDF Vectorizer"
   ]
  },
  {
   "cell_type": "code",
   "execution_count": 137,
   "id": "4c9fa6e1",
   "metadata": {},
   "outputs": [],
   "source": [
    "X=dataset['tweet']\n",
    "y=dataset['sentiment']"
   ]
  },
  {
   "cell_type": "code",
   "execution_count": 142,
   "id": "0066a9f5",
   "metadata": {},
   "outputs": [
    {
     "data": {
      "text/plain": [
       "0       [last, day, swim, class, last, semest, haha, m...\n",
       "1       [watch, devil, wear, prada, want, live, new, y...\n",
       "2       [nice, get, back, work, enjoy, last, sun, revi...\n",
       "3       [spx, minor, breakout, pattern, daili, appear,...\n",
       "4       [would, vote, but, unfortunatelli, name, didnt...\n",
       "                              ...                        \n",
       "3463                      [yo, clair, yall, hysterectomi]\n",
       "3464    [jacobwohlreport, need, aquir, wife, happen, a...\n",
       "3465    [get, lot, boy, cri, wolf, vibe, red, cross, e...\n",
       "3466    [updat, hold, hand, mom, walk, around, campu, ...\n",
       "3467    [might, rubbish, drive, le, stellar, career, b...\n",
       "Name: tweet, Length: 3468, dtype: object"
      ]
     },
     "execution_count": 142,
     "metadata": {},
     "output_type": "execute_result"
    }
   ],
   "source": [
    "X"
   ]
  },
  {
   "cell_type": "code",
   "execution_count": 143,
   "id": "d95e965a",
   "metadata": {},
   "outputs": [
    {
     "data": {
      "text/plain": [
       "0       1\n",
       "1       0\n",
       "2       0\n",
       "3       2\n",
       "4       1\n",
       "       ..\n",
       "3463    3\n",
       "3464    3\n",
       "3465    3\n",
       "3466    3\n",
       "3467    3\n",
       "Name: sentiment, Length: 3468, dtype: int64"
      ]
     },
     "execution_count": 143,
     "metadata": {},
     "output_type": "execute_result"
    }
   ],
   "source": [
    "y"
   ]
  },
  {
   "cell_type": "code",
   "execution_count": 183,
   "id": "b2e28245",
   "metadata": {},
   "outputs": [],
   "source": [
    "# separating 80% data for training data and 20% faor testing data\n",
    "X_train, X_test, y_train, y_test = train_test_split(X,y,test_size = 0.2, random_state =26105111)"
   ]
  },
  {
   "cell_type": "code",
   "execution_count": 184,
   "id": "f9561528",
   "metadata": {},
   "outputs": [],
   "source": [
    "# convert to strings\n",
    "X_train = [' '.join(map(str, sublist)).lower() for sublist in X_train]\n",
    "X_test = [' '.join(map(str, sublist)).lower() for sublist in X_test]"
   ]
  },
  {
   "cell_type": "code",
   "execution_count": 185,
   "id": "faf92624",
   "metadata": {},
   "outputs": [
    {
     "name": "stdout",
     "output_type": "stream",
     "text": [
      "No. of feature_words: 29015\n"
     ]
    },
    {
     "name": "stderr",
     "output_type": "stream",
     "text": [
      "/Users/tonizeng/opt/anaconda3/lib/python3.9/site-packages/sklearn/utils/deprecation.py:87: FutureWarning: Function get_feature_names is deprecated; get_feature_names is deprecated in 1.0 and will be removed in 1.2. Please use get_feature_names_out instead.\n",
      "  warnings.warn(msg, category=FutureWarning)\n"
     ]
    }
   ],
   "source": [
    "vectorizer = TfidfVectorizer(ngram_range=(1, 2), max_features=500000)\n",
    "vectorizer.fit(X_train)\n",
    "\n",
    "print('No. of feature_words:', len(vectorizer.get_feature_names()))"
   ]
  },
  {
   "cell_type": "code",
   "execution_count": 186,
   "id": "df11b699",
   "metadata": {},
   "outputs": [],
   "source": [
    "X_train = vectorizer.transform(X_train)\n",
    "X_test = vectorizer.transform(X_test)"
   ]
  },
  {
   "cell_type": "markdown",
   "id": "312aad18",
   "metadata": {},
   "source": [
    "## Model Testing"
   ]
  },
  {
   "cell_type": "code",
   "execution_count": 305,
   "id": "40232bfa",
   "metadata": {},
   "outputs": [],
   "source": [
    "def model_Evaluate(model, X_test, y_test):\n",
    "    y_pred = model.predict(X_test)\n",
    "    print(classification_report(y_test, y_pred))"
   ]
  },
  {
   "cell_type": "markdown",
   "id": "8702c11c",
   "metadata": {},
   "source": [
    "### Model-1 Gaussian Naive Bayes Classifier"
   ]
  },
  {
   "cell_type": "code",
   "execution_count": 347,
   "id": "ca84de42",
   "metadata": {
    "scrolled": true
   },
   "outputs": [
    {
     "name": "stdout",
     "output_type": "stream",
     "text": [
      "Gaussian Naive Bayes:\n",
      "              precision    recall  f1-score   support\n",
      "\n",
      "           0       0.49      0.55      0.52       188\n",
      "           1       0.47      0.39      0.42       181\n",
      "           2       0.83      0.80      0.82       169\n",
      "           3       0.44      0.49      0.46       156\n",
      "\n",
      "    accuracy                           0.55       694\n",
      "   macro avg       0.56      0.56      0.56       694\n",
      "weighted avg       0.56      0.55      0.55       694\n",
      "\n"
     ]
    }
   ],
   "source": [
    "class_weights = {0: 1, 1: 1, 2: 1, 3: 2}\n",
    "\n",
    "sample_weights = np.array([class_weights[y] for y in y_train])\n",
    "GNBmodel = GaussianNB()\n",
    "GNBmodel.fit(X_train.toarray(), y_train, sample_weight=sample_weights)\n",
    "print(\"Gaussian Naive Bayes:\")\n",
    "model_Evaluate(GNBmodel, X_test.toarray(), y_test)"
   ]
  },
  {
   "cell_type": "markdown",
   "id": "0933e1e2",
   "metadata": {},
   "source": [
    "### Model-2 Multinomial Naive Bayes Classifier"
   ]
  },
  {
   "cell_type": "code",
   "execution_count": 352,
   "id": "b9fcc9a6",
   "metadata": {},
   "outputs": [
    {
     "name": "stdout",
     "output_type": "stream",
     "text": [
      "Multinomial Naive Bayes:\n",
      "              precision    recall  f1-score   support\n",
      "\n",
      "           0       0.73      0.19      0.30       188\n",
      "           1       0.87      0.11      0.20       181\n",
      "           2       1.00      0.64      0.78       169\n",
      "           3       0.30      0.97      0.45       156\n",
      "\n",
      "    accuracy                           0.46       694\n",
      "   macro avg       0.72      0.48      0.43       694\n",
      "weighted avg       0.73      0.46      0.42       694\n",
      "\n"
     ]
    }
   ],
   "source": [
    "class_weights = {0: 1, 1: 1, 2: 1, 3: 2}  \n",
    "\n",
    "class_counts = [sum(y_train == i) for i in range(4)]  \n",
    "total_samples = len(y_train)\n",
    "class_proportions = [count / total_samples for count in class_counts]\n",
    "\n",
    "weighted_proportions = [class_proportions[i] * class_weights[i] for i in range(4)]\n",
    "\n",
    "MNBmodel = MultinomialNB(class_prior=weighted_proportions)\n",
    "\n",
    "MNBmodel.fit(X_train, y_train)\n",
    "\n",
    "print(\"Multinomial Naive Bayes:\")\n",
    "model_Evaluate(MNBmodel, X_test, y_test)"
   ]
  },
  {
   "cell_type": "markdown",
   "id": "d57a829c",
   "metadata": {},
   "source": [
    "### Model-3 KNN"
   ]
  },
  {
   "cell_type": "code",
   "execution_count": 358,
   "id": "0832c1db",
   "metadata": {},
   "outputs": [
    {
     "name": "stdout",
     "output_type": "stream",
     "text": [
      "K-Nearest Neighbors (KNN):\n",
      "              precision    recall  f1-score   support\n",
      "\n",
      "           0       0.51      0.64      0.57       188\n",
      "           1       0.55      0.49      0.52       181\n",
      "           2       0.84      0.83      0.84       169\n",
      "           3       0.52      0.43      0.47       156\n",
      "\n",
      "    accuracy                           0.60       694\n",
      "   macro avg       0.61      0.60      0.60       694\n",
      "weighted avg       0.60      0.60      0.60       694\n",
      "\n"
     ]
    }
   ],
   "source": [
    "class_weights = {0: 1, 1: 1, 2: 1, 3: 2} \n",
    "\n",
    "k = 30  \n",
    "KNNmodel = KNeighborsClassifier(n_neighbors=k, weights='distance', metric='euclidean', metric_params={'w': class_weights})\n",
    "KNNmodel.fit(X_train, y_train)\n",
    "print(\"K-Nearest Neighbors (KNN):\")\n",
    "model_Evaluate(KNNmodel, X_test, y_test)"
   ]
  },
  {
   "cell_type": "markdown",
   "id": "e7fff978",
   "metadata": {},
   "source": [
    "### Model-4 Logistic Regression"
   ]
  },
  {
   "cell_type": "code",
   "execution_count": 359,
   "id": "3ee891e4",
   "metadata": {},
   "outputs": [
    {
     "name": "stdout",
     "output_type": "stream",
     "text": [
      "              precision    recall  f1-score   support\n",
      "\n",
      "           0       0.65      0.47      0.54       188\n",
      "           1       0.69      0.29      0.41       181\n",
      "           2       0.97      0.78      0.86       169\n",
      "           3       0.40      0.88      0.55       156\n",
      "\n",
      "    accuracy                           0.59       694\n",
      "   macro avg       0.68      0.60      0.59       694\n",
      "weighted avg       0.68      0.59      0.59       694\n",
      "\n"
     ]
    }
   ],
   "source": [
    "class_weights = {0: 1, 1: 1, 2: 1, 3: 2}  \n",
    "\n",
    "LRmodel = LogisticRegression(class_weight=class_weights)\n",
    "LRmodel.fit(X_train, y_train)\n",
    "y_pred = LRmodel.predict(X_test)\n",
    "print(classification_report(y_test, y_pred))"
   ]
  },
  {
   "cell_type": "markdown",
   "id": "ced9b45e",
   "metadata": {},
   "source": [
    "### Model-5 SVM"
   ]
  },
  {
   "cell_type": "code",
   "execution_count": 360,
   "id": "658f6a89",
   "metadata": {
    "scrolled": true
   },
   "outputs": [
    {
     "name": "stdout",
     "output_type": "stream",
     "text": [
      "SVM\n",
      "              precision    recall  f1-score   support\n",
      "\n",
      "           0       0.55      0.61      0.58       188\n",
      "           1       0.56      0.42      0.48       181\n",
      "           2       0.92      0.83      0.88       169\n",
      "           3       0.49      0.62      0.55       156\n",
      "\n",
      "    accuracy                           0.62       694\n",
      "   macro avg       0.63      0.62      0.62       694\n",
      "weighted avg       0.63      0.62      0.62       694\n",
      "\n"
     ]
    }
   ],
   "source": [
    "class_weights = {0: 1, 1: 1, 2: 1, 3: 2}  \n",
    "\n",
    "sample_weights = np.array([class_weights[y] for y in y_train])\n",
    "svmModel = SVC(kernel='linear', class_weight=class_weights)\n",
    "svmModel.fit(X_train, y_train, sample_weight=sample_weights)\n",
    "y_pred = svmModel.predict(X_test)\n",
    "print(\"SVM\")\n",
    "print(classification_report(y_test, y_pred))"
   ]
  },
  {
   "cell_type": "markdown",
   "id": "e26a9162",
   "metadata": {},
   "source": [
    "### Model-6 Random Forest Classifier"
   ]
  },
  {
   "cell_type": "code",
   "execution_count": 361,
   "id": "808ca4bc",
   "metadata": {
    "scrolled": true
   },
   "outputs": [
    {
     "name": "stdout",
     "output_type": "stream",
     "text": [
      "Random Forest Classifier\n",
      "              precision    recall  f1-score   support\n",
      "\n",
      "           0       0.48      0.64      0.55       188\n",
      "           1       0.48      0.56      0.52       181\n",
      "           2       0.94      0.78      0.85       169\n",
      "           3       0.62      0.37      0.46       156\n",
      "\n",
      "    accuracy                           0.59       694\n",
      "   macro avg       0.63      0.59      0.59       694\n",
      "weighted avg       0.62      0.59      0.59       694\n",
      "\n"
     ]
    }
   ],
   "source": [
    "class_weights = {0: 1, 1: 1, 2: 1, 3: 2}  \n",
    "\n",
    "rfModel = RandomForestClassifier(n_estimators=100, random_state=42, class_weight=class_weights)\n",
    "rfModel.fit(X_train, y_train)\n",
    "print(\"Random Forest Classifier\")\n",
    "model_Evaluate(rfModel, X_test, y_test)"
   ]
  }
 ],
 "metadata": {
  "kernelspec": {
   "display_name": "Python 3 (ipykernel)",
   "language": "python",
   "name": "python3"
  },
  "language_info": {
   "codemirror_mode": {
    "name": "ipython",
    "version": 3
   },
   "file_extension": ".py",
   "mimetype": "text/x-python",
   "name": "python",
   "nbconvert_exporter": "python",
   "pygments_lexer": "ipython3",
   "version": "3.9.13"
  }
 },
 "nbformat": 4,
 "nbformat_minor": 5
}
